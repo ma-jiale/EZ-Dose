{
 "cells": [
  {
   "cell_type": "code",
   "execution_count": 1,
   "metadata": {},
   "outputs": [
    {
     "name": "stdout",
     "output_type": "stream",
     "text": [
      "[成功] 串口 COM6 连接成功\n"
     ]
    }
   ],
   "source": [
    "from dispenser import *\n",
    "my_dispenser = Dispenser(\"COM6\")"
   ]
  },
  {
   "cell_type": "code",
   "execution_count": 2,
   "metadata": {},
   "outputs": [
    {
     "name": "stdout",
     "output_type": "stream",
     "text": [
      "[启动] 串口信息接收线程已启动，现在可以看到所有串口消息\n"
     ]
    },
    {
     "name": "stdout",
     "output_type": "stream",
     "text": [
      "串口接收 >>> ACK\n",
      "[通信确认] 收到ACK\n",
      "串口接收 >>> DONE\n",
      "[操作完成] 收到DONE\n"
     ]
    }
   ],
   "source": [
    "# Start the dispenser feedback handler\n",
    "my_dispenser.start_dispenser_feedback_handler()"
   ]
  },
  {
   "cell_type": "code",
   "execution_count": null,
   "metadata": {},
   "outputs": [],
   "source": [
    "my_dispenser.stop_dispenser_feedback_handler()"
   ]
  },
  {
   "cell_type": "markdown",
   "metadata": {},
   "source": [
    "### 命令发送测试"
   ]
  },
  {
   "cell_type": "code",
   "execution_count": 4,
   "metadata": {},
   "outputs": [
    {
     "name": "stdout",
     "output_type": "stream",
     "text": [
      "[发送] aabb000000\n",
      "[成功] 收到确认\n",
      "[操作] 分药机已重置\n"
     ]
    },
    {
     "data": {
      "text/plain": [
       "0"
      ]
     },
     "execution_count": 4,
     "metadata": {},
     "output_type": "execute_result"
    }
   ],
   "source": [
    "# 清空分配盘和载入药盘\n",
    "my_dispenser.reset_dispenser()"
   ]
  },
  {
   "cell_type": "code",
   "execution_count": 3,
   "metadata": {},
   "outputs": [
    {
     "name": "stdout",
     "output_type": "stream",
     "text": [
      "[发送] aabb030300\n",
      "[成功] 收到确认\n"
     ]
    },
    {
     "data": {
      "text/plain": [
       "0"
      ]
     },
     "execution_count": 3,
     "metadata": {},
     "output_type": "execute_result"
    }
   ],
   "source": [
    "# 退出药盘\n",
    "my_dispenser.open_plate()"
   ]
  },
  {
   "cell_type": "code",
   "execution_count": 4,
   "metadata": {},
   "outputs": [
    {
     "name": "stdout",
     "output_type": "stream",
     "text": [
      "[发送] aabb040400\n",
      "[成功] 收到确认\n"
     ]
    },
    {
     "data": {
      "text/plain": [
       "0"
      ]
     },
     "execution_count": 4,
     "metadata": {},
     "output_type": "execute_result"
    }
   ],
   "source": [
    "# 载入药盘\n",
    "my_dispenser.close_plate()"
   ]
  },
  {
   "cell_type": "code",
   "execution_count": null,
   "metadata": {},
   "outputs": [],
   "source": [
    "# 创建测试分药矩阵\n",
    "pill_matrix = np.zeros([4, 7], dtype=np.byte)\n",
    "for r in range(4):\n",
    "    if r % 2 != 0:\n",
    "        for c in range(7):\n",
    "            if c % 2 == 0:\n",
    "                pill_matrix[r][c] = 1\n",
    "    if r % 2 == 0:\n",
    "        for c in range(7):\n",
    "            if c % 2 != 0:\n",
    "                pill_matrix[r][c] = 1  \n",
    "\n",
    "my_dispenser.send_pill_matrix(pill_matrix)"
   ]
  },
  {
   "cell_type": "code",
   "execution_count": null,
   "metadata": {},
   "outputs": [],
   "source": [
    "my_dispenser.pause()"
   ]
  },
  {
   "cell_type": "markdown",
   "metadata": {},
   "source": [
    "### 参数设置测试"
   ]
  },
  {
   "cell_type": "markdown",
   "metadata": {},
   "source": []
  },
  {
   "cell_type": "code",
   "execution_count": null,
   "metadata": {},
   "outputs": [],
   "source": [
    "#初始值参考\n",
    "my_dispenser.set_turnMotor_speed(0.5)\n",
    "my_dispenser.set_conveyorMotor_speed(1)\n",
    "my_dispenser.set_upperOptocoupler_thresh(0.87)\n",
    "my_dispenser.set_lowerOptocoupler_thresh(0.92)\n",
    "my_dispenser.set_upperOptocoupler_noresp(50)\n",
    "my_dispenser.set_lowerOptocoupler_noresp(10)\n",
    "my_dispenser.set_turnMotor_delay_stop(0)\n",
    "my_dispenser.set_clean_speed(0.8)\n",
    "my_dispenser.set_clean_delay(6 * 1000)\n"
   ]
  },
  {
   "cell_type": "code",
   "execution_count": null,
   "metadata": {},
   "outputs": [],
   "source": [
    "my_dispenser.set_turnMotor_speed(0.4)#0.8"
   ]
  },
  {
   "cell_type": "code",
   "execution_count": null,
   "metadata": {},
   "outputs": [],
   "source": [
    "my_dispenser.set_conveyorMotor_speed(1)"
   ]
  },
  {
   "cell_type": "code",
   "execution_count": null,
   "metadata": {},
   "outputs": [],
   "source": [
    "my_dispenser.set_upperOptocoupler_thresh(0.5)#0.88"
   ]
  },
  {
   "cell_type": "code",
   "execution_count": null,
   "metadata": {},
   "outputs": [],
   "source": [
    "my_dispenser.set_lowerOptocoupler_thresh(0.96)#0.96"
   ]
  },
  {
   "cell_type": "code",
   "execution_count": null,
   "metadata": {},
   "outputs": [],
   "source": [
    "my_dispenser.set_upperOptocoupler_noresp(18)"
   ]
  },
  {
   "cell_type": "code",
   "execution_count": null,
   "metadata": {},
   "outputs": [],
   "source": [
    "my_dispenser.set_lowerOptocoupler_noresp(3)"
   ]
  },
  {
   "cell_type": "code",
   "execution_count": null,
   "metadata": {},
   "outputs": [],
   "source": [
    "my_dispenser.set_turnMotor_delay_stop(0)"
   ]
  },
  {
   "cell_type": "code",
   "execution_count": null,
   "metadata": {},
   "outputs": [],
   "source": [
    "my_dispenser.set_clean_speed(1)\n",
    "my_dispenser.set_clean_delay(10 * 1000)"
   ]
  }
 ],
 "metadata": {
  "kernelspec": {
   "display_name": "pill-dispenser",
   "language": "python",
   "name": "python3"
  },
  "language_info": {
   "codemirror_mode": {
    "name": "ipython",
    "version": 3
   },
   "file_extension": ".py",
   "mimetype": "text/x-python",
   "name": "python",
   "nbconvert_exporter": "python",
   "pygments_lexer": "ipython3",
   "version": "3.10.12"
  }
 },
 "nbformat": 4,
 "nbformat_minor": 2
}
