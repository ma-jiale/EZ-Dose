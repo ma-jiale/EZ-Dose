{
 "cells": [
  {
   "cell_type": "markdown",
   "id": "8eefe41a",
   "metadata": {},
   "source": [
    "创建分药机实例，通过串口连接分药机下位机\n"
   ]
  },
  {
   "cell_type": "code",
   "execution_count": 1,
   "id": "4b1b5b8e",
   "metadata": {},
   "outputs": [],
   "source": [
    "from dispenser_controller import *\n",
    "my_dispenser = DispenserController()\n"
   ]
  },
  {
   "cell_type": "code",
   "execution_count": null,
   "id": "86fe5ba8",
   "metadata": {},
   "outputs": [
    {
     "name": "stdout",
     "output_type": "stream",
     "text": [
      "[Initialize] Starting dispenser initialization...\n",
      "[Search] Searching for dispenser device...\n",
      "[Info] Found 3 serial port devices:\n",
      "  - COM19: USB-SERIAL CH340 (COM19)\n",
      "    Manufacturer: wch.cn\n",
      "    VID:PID: 1A86:7523\n",
      "  - COM3: 蓝牙链接上的标准串行 (COM3)\n",
      "    Manufacturer: Microsoft\n",
      "  - COM4: 蓝牙链接上的标准串行 (COM4)\n",
      "    Manufacturer: Microsoft\n",
      "    [Match] CH340 chip detected: +50\n",
      "    [Match] USB-SERIAL detected: +30\n",
      "    [Match] Manufacturer detected: +40\n",
      "    [Match] VID:PID detected(1A86:7523): +60\n",
      "    [Match] USB device detected: +10\n",
      "[Match] Found potential dispenser device: COM19 (match score: 190)\n",
      "[Select] Auto-selected device: COM19\n",
      "  Description: USB-SERIAL CH340 (COM19)\n",
      "  Manufacturer: wch.cn\n",
      "[Success] Serial port COM19 connected successfully\n",
      "[Start] Serial message receiver thread started, now you can see all serial messages\n",
      "[Send] aabb000000\n",
      "Serial received >>> ACK\n",
      "[Communication Confirmation] ACK received\n",
      "[Success] Confirmation received\n",
      "Serial received >>> DONE\n",
      "[Operation Complete] DONE received\n",
      "[Operation] Dispenser has been reset\n",
      "[Success] Dispenser initialization completed successfully\n"
     ]
    },
    {
     "data": {
      "text/plain": [
       "True"
      ]
     },
     "execution_count": 2,
     "metadata": {},
     "output_type": "execute_result"
    },
    {
     "name": "stdout",
     "output_type": "stream",
     "text": [
      "Serial received >>> ACK\n",
      "[Communication Confirmation] ACK received\n",
      "Serial received >>> DONE\n",
      "[Operation Complete] DONE received\n",
      "Serial received >>> ACK\n",
      "[Communication Confirmation] ACK received\n",
      "Serial received >>> ACK\n",
      "[Communication Confirmation] ACK received\n",
      "Serial received >>> ACK\n",
      "[Communication Confirmation] ACK received\n",
      "Serial received >>> pills in:1\n",
      "Serial received >>> pills out:1\n",
      "[Pills Remaining] Remaining undispensed pills: 13\n",
      "[Send ACK to dispenser] aabb0a0a00\n",
      "Serial received >>> pills in:2\n",
      "Serial received >>> pills in:3\n",
      "Serial received >>> pills out:2\n",
      "[Pills Remaining] Remaining undispensed pills: 12\n",
      "[Send ACK to dispenser] aabb0a0a00\n",
      "Serial received >>> pills out:3\n",
      "[Pills Remaining] Remaining undispensed pills: 11\n",
      "[Send ACK to dispenser] aabb0a0a00\n",
      "Serial received >>> pills in:4\n",
      "Serial received >>> pills out:4\n",
      "[Pills Remaining] Remaining undispensed pills: 10\n",
      "[Send ACK to dispenser] aabb0a0a00\n",
      "Serial received >>> pills in:5\n",
      "Serial received >>> pills out:5\n",
      "[Pills Remaining] Remaining undispensed pills: 9\n",
      "[Send ACK to dispenser] aabb0a0a00\n",
      "Serial received >>> pills in:6\n",
      "Serial received >>> pills in:7\n",
      "Serial received >>> pills out:6\n",
      "[Pills Remaining] Remaining undispensed pills: 8\n",
      "[Send ACK to dispenser] aabb0a0a00\n",
      "Serial received >>> pills out:7\n",
      "[Pills Remaining] Remaining undispensed pills: 7\n",
      "[Send ACK to dispenser] aabb0a0a00\n",
      "Serial received >>> pills in:8\n",
      "Serial received >>> pills out:8\n",
      "[Pills Remaining] Remaining undispensed pills: 6\n",
      "[Send ACK to dispenser] aabb0a0a00\n",
      "Serial received >>> pills in:9\n",
      "Serial received >>> pills out:9\n",
      "[Pills Remaining] Remaining undispensed pills: 5\n",
      "[Send ACK to dispenser] aabb0a0a00\n",
      "Serial received >>> pills in:10\n",
      "Serial received >>> pills in:11\n",
      "Serial received >>> pills out:10\n",
      "[Pills Remaining] Remaining undispensed pills: 4\n",
      "[Send ACK to dispenser] aabb0a0a00\n",
      "Serial received >>> pills in:12\n",
      "Serial received >>> pills out:11\n",
      "[Pills Remaining] Remaining undispensed pills: 3\n",
      "[Send ACK to dispenser] aabb0a0a00\n",
      "Serial received >>> pills out:12\n",
      "[Pills Remaining] Remaining undispensed pills: 2\n",
      "[Send ACK to dispenser] aabb0a0a00\n",
      "Serial received >>> pills in:13\n",
      "Serial received >>> pills in:14\n",
      "Serial received >>> pills out:13\n",
      "[Pills Remaining] Remaining undispensed pills: 1\n",
      "[Send ACK to dispenser] aabb0a0a00\n",
      "Serial received >>> pills out:14\n",
      "[Pills Remaining] Remaining undispensed pills: 0\n",
      "[Send ACK to dispenser] aabb0a0a00\n",
      "Serial received >>> machine_state:FINISH\n",
      "[Status Update] Dispensing completed\n",
      "Serial received >>> pill_remain:2\n",
      "Serial received >>> ACK\n",
      "[Communication Confirmation] ACK received\n",
      "Serial received >>> DONE\n",
      "[Operation Complete] DONE received\n"
     ]
    }
   ],
   "source": [
    "my_dispenser.initialize_dispenser()"
   ]
  },
  {
   "cell_type": "markdown",
   "id": "1d8c3302",
   "metadata": {},
   "source": [
    "重置分药机状态"
   ]
  },
  {
   "cell_type": "code",
   "execution_count": null,
   "id": "12394e74",
   "metadata": {},
   "outputs": [],
   "source": [
    "my_dispenser.reset_dispenser()"
   ]
  },
  {
   "cell_type": "markdown",
   "id": "ead69c62",
   "metadata": {},
   "source": [
    "打开舱门"
   ]
  },
  {
   "cell_type": "code",
   "execution_count": 5,
   "id": "1f462f10",
   "metadata": {},
   "outputs": [
    {
     "name": "stdout",
     "output_type": "stream",
     "text": [
      "[Send] aabb030300\n",
      "[Success] Confirmation received\n"
     ]
    },
    {
     "data": {
      "text/plain": [
       "0"
      ]
     },
     "execution_count": 5,
     "metadata": {},
     "output_type": "execute_result"
    }
   ],
   "source": [
    "my_dispenser.open_tray()"
   ]
  },
  {
   "cell_type": "markdown",
   "id": "0bc60ccf",
   "metadata": {},
   "source": [
    "放入药盘后关闭舱门"
   ]
  },
  {
   "cell_type": "code",
   "execution_count": null,
   "id": "f02b13c2",
   "metadata": {},
   "outputs": [],
   "source": [
    "my_dispenser.close_tray()"
   ]
  },
  {
   "cell_type": "code",
   "execution_count": null,
   "id": "370fc188",
   "metadata": {},
   "outputs": [],
   "source": [
    "my_dispenser.set_turnMotor_speed(0.6)"
   ]
  },
  {
   "cell_type": "code",
   "execution_count": null,
   "id": "6c8995a7",
   "metadata": {},
   "outputs": [],
   "source": [
    "my_dispenser.set_servo_angle(1.0)"
   ]
  },
  {
   "cell_type": "markdown",
   "id": "4b36fa56",
   "metadata": {},
   "source": [
    "根据药片类型设置转盘速度和舵机角度，发送测试分药矩阵"
   ]
  },
  {
   "cell_type": "code",
   "execution_count": 4,
   "id": "89868a0b",
   "metadata": {},
   "outputs": [
    {
     "name": "stdout",
     "output_type": "stream",
     "text": [
      "[Send] aabb08009a99193e9201\n",
      "[Success] Confirmation received\n",
      "[Send] aabb08010000803fc800\n",
      "[Success] Confirmation received\n",
      "分药矩阵:\n",
      "[[1 1 1 1 1 1 1]\n",
      " [1 1 1 1 1 1 1]\n",
      " [0 0 0 0 0 0 0]\n",
      " [0 0 0 0 0 0 0]]\n",
      "[Send] aabb05010101010101010101010101010100000000000000000000000000001300\n",
      "[Success] Confirmation received\n",
      "[结果] 发送分药命令结果: True\n"
     ]
    }
   ],
   "source": [
    "# 创建测试分药矩阵\n",
    "my_dispenser.set_turnMotor_speed(0.15)\n",
    "my_dispenser.set_servo_angle(1.0)\n",
    "pill_matrix = np.zeros([4, 7], dtype=np.byte)\n",
    "for r in range(3):\n",
    "    if r < 2:\n",
    "        for c in range(7):\n",
    "            # if c % 2 == 0:\n",
    "            pill_matrix[r][c] = 1\n",
    "print(f\"分药矩阵:\\n{pill_matrix}\")\n",
    "# 发送分药命令\n",
    "return_msg = my_dispenser.send_pill_matrix(pill_matrix)\n",
    "print(f\"[结果] 发送分药命令结果: {return_msg}\")"
   ]
  },
  {
   "cell_type": "code",
   "execution_count": null,
   "id": "d0749b58",
   "metadata": {},
   "outputs": [],
   "source": [
    "my_dispenser.pause_dispenser()"
   ]
  },
  {
   "cell_type": "code",
   "execution_count": null,
   "id": "ea0dc4d4",
   "metadata": {},
   "outputs": [],
   "source": [
    "my_dispenser.stop_dispenser_feedback_handler()"
   ]
  }
 ],
 "metadata": {
  "kernelspec": {
   "display_name": "pill-dispenser",
   "language": "python",
   "name": "python3"
  },
  "language_info": {
   "codemirror_mode": {
    "name": "ipython",
    "version": 3
   },
   "file_extension": ".py",
   "mimetype": "text/x-python",
   "name": "python",
   "nbconvert_exporter": "python",
   "pygments_lexer": "ipython3",
   "version": "3.10.12"
  }
 },
 "nbformat": 4,
 "nbformat_minor": 5
}
