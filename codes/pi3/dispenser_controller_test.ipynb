{
 "cells": [
  {
   "cell_type": "markdown",
   "id": "8eefe41a",
   "metadata": {},
   "source": [
    "创建分药机实例，通过串口连接分药机下位机\n"
   ]
  },
  {
   "cell_type": "code",
   "execution_count": null,
   "id": "4b1b5b8e",
   "metadata": {},
   "outputs": [
    {
     "name": "stdout",
     "output_type": "stream",
     "text": [
      "[成功] 串口 COM14 连接成功\n",
      "[启动] 串口信息接收线程已启动，现在可以看到所有串口消息\n"
     ]
    },
    {
     "name": "stdout",
     "output_type": "stream",
     "text": [
      "串口接收 >>> ACK\n",
      "[通信确认] 收到ACK\n",
      "串口接收 >>> DONE\n",
      "[操作完成] 收到DONE\n",
      "串口接收 >>> ACK\n",
      "[通信确认] 收到ACK\n",
      "串口接收 >>> DONE\n",
      "[操作完成] 收到DONE\n",
      "串口接收 >>> ACK\n",
      "[通信确认] 收到ACK\n",
      "串口接收 >>> DONE\n",
      "[操作完成] 收到DONE\n",
      "串口接收 >>> ACK\n",
      "[通信确认] 收到ACK\n",
      "串口接收 >>> DONE\n",
      "[操作完成] 收到DONE\n",
      "串口接收 >>> ACK\n",
      "[通信确认] 收到ACK\n",
      "串口接收 >>> pills in:1\n",
      "串口接收 >>> pills in:2\n",
      "串口接收 >>> pills out:1\n",
      "[药片剩余] 剩余未发药片数量: 3\n",
      "[发送ACK给分药机] aabb0a0a00\n",
      "串口接收 >>> pills in:3\n",
      "串口接收 >>> pills out:2\n",
      "[药片剩余] 剩余未发药片数量: 2\n",
      "[发送ACK给分药机] aabb0a0a00\n",
      "串口接收 >>> pills out:3\n",
      "[药片剩余] 剩余未发药片数量: 1\n",
      "[发送ACK给分药机] aabb0a0a00\n",
      "串口接收 >>> pills in:4\n",
      "串口接收 >>> pills out:4\n",
      "[药片剩余] 剩余未发药片数量: 0\n",
      "[发送ACK给分药机] aabb0a0a00\n",
      "串口接收 >>> machine_state:FINISH\n",
      "[状态更新] 分药完成\n",
      "串口接收 >>> pill_remain:3\n",
      "串口接收 >>> ACK\n",
      "[通信确认] 收到ACK\n",
      "串口接收 >>> DONE\n",
      "[操作完成] 收到DONE\n"
     ]
    }
   ],
   "source": [
    "from dispenser_controller import *\n",
    "my_dispenser = DispenserController(\"COM14\")  # 根据实际串口修改"
   ]
  },
  {
   "cell_type": "markdown",
   "id": "1d8c3302",
   "metadata": {},
   "source": [
    "重置分药机状态"
   ]
  },
  {
   "cell_type": "code",
   "execution_count": 3,
   "id": "12394e74",
   "metadata": {},
   "outputs": [
    {
     "name": "stdout",
     "output_type": "stream",
     "text": [
      "[发送] aabb000000\n",
      "[成功] 收到确认\n",
      "[操作] 分药机已重置\n"
     ]
    },
    {
     "data": {
      "text/plain": [
       "0"
      ]
     },
     "execution_count": 3,
     "metadata": {},
     "output_type": "execute_result"
    }
   ],
   "source": [
    "my_dispenser.reset_dispenser()"
   ]
  },
  {
   "cell_type": "markdown",
   "id": "ead69c62",
   "metadata": {},
   "source": [
    "打开舱门"
   ]
  },
  {
   "cell_type": "code",
   "execution_count": 4,
   "id": "1f462f10",
   "metadata": {},
   "outputs": [
    {
     "name": "stdout",
     "output_type": "stream",
     "text": [
      "[发送] aabb030300\n",
      "[成功] 收到确认\n"
     ]
    },
    {
     "data": {
      "text/plain": [
       "0"
      ]
     },
     "execution_count": 4,
     "metadata": {},
     "output_type": "execute_result"
    }
   ],
   "source": [
    "my_dispenser.open_tray()"
   ]
  },
  {
   "cell_type": "markdown",
   "id": "0bc60ccf",
   "metadata": {},
   "source": [
    "放入药盘后关闭舱门"
   ]
  },
  {
   "cell_type": "code",
   "execution_count": 5,
   "id": "f02b13c2",
   "metadata": {},
   "outputs": [
    {
     "name": "stdout",
     "output_type": "stream",
     "text": [
      "[发送] aabb040400\n",
      "[成功] 收到确认\n"
     ]
    },
    {
     "data": {
      "text/plain": [
       "0"
      ]
     },
     "execution_count": 5,
     "metadata": {},
     "output_type": "execute_result"
    }
   ],
   "source": [
    "my_dispenser.close_tray()"
   ]
  },
  {
   "cell_type": "markdown",
   "id": "4b36fa56",
   "metadata": {},
   "source": [
    "根据药片类型设置转盘速度和舵机角度，发送测试分药矩阵"
   ]
  },
  {
   "cell_type": "code",
   "execution_count": 6,
   "id": "89868a0b",
   "metadata": {},
   "outputs": [
    {
     "name": "stdout",
     "output_type": "stream",
     "text": [
      "[发送] aabb08009a99193f9301\n",
      "[重发 1/5] 未收到确认，重新发送\n",
      "[重发] aabb08009a99193f9301\n",
      "[重发 2/5] 未收到确认，重新发送\n",
      "[重发] aabb08009a99193f9301\n",
      "[重发 3/5] 未收到确认，重新发送\n",
      "[重发] aabb08009a99193f9301\n",
      "[重发 4/5] 未收到确认，重新发送\n",
      "[重发] aabb08009a99193f9301\n",
      "[重发 5/5] 未收到确认，重新发送\n",
      "[重发] aabb08009a99193f9301\n",
      "[失败] 经过 5 次重发仍未收到确认\n",
      "[发送] aabb08010000003f4800\n",
      "[重发 1/5] 未收到确认，重新发送\n",
      "[重发] aabb08010000003f4800\n",
      "[重发 2/5] 未收到确认，重新发送\n",
      "[重发] aabb08010000003f4800\n",
      "[重发 3/5] 未收到确认，重新发送\n",
      "[重发] aabb08010000003f4800\n",
      "[重发 4/5] 未收到确认，重新发送\n",
      "[重发] aabb08010000003f4800\n",
      "[重发 5/5] 未收到确认，重新发送\n",
      "[重发] aabb08010000003f4800\n",
      "[失败] 经过 5 次重发仍未收到确认\n",
      "分药矩阵:\n",
      "[[1 0 1 0 1 0 1]\n",
      " [0 0 0 0 0 0 0]\n",
      " [0 0 0 0 0 0 0]\n",
      " [0 0 0 0 0 0 0]]\n",
      "[发送] aabb05010001000100010000000000000000000000000000000000000000000900\n",
      "[成功] 收到确认\n",
      "[结果] 发送分药命令结果: True\n"
     ]
    }
   ],
   "source": [
    "# 创建测试分药矩阵\n",
    "my_dispenser.set_turnMotor_speed(0.6)\n",
    "my_dispenser.set_servo_angle(0.5)\n",
    "pill_matrix = np.zeros([4, 7], dtype=np.byte)\n",
    "for r in range(3):\n",
    "    if r == 0:\n",
    "        for c in range(7):\n",
    "            if c % 2 == 0:\n",
    "                pill_matrix[r][c] = 1\n",
    "print(f\"分药矩阵:\\n{pill_matrix}\")\n",
    "# 发送分药命令\n",
    "return_msg = my_dispenser.send_pill_matrix(pill_matrix)\n",
    "print(f\"[结果] 发送分药命令结果: {return_msg}\")"
   ]
  },
  {
   "cell_type": "code",
   "execution_count": 7,
   "id": "d0749b58",
   "metadata": {},
   "outputs": [
    {
     "name": "stdout",
     "output_type": "stream",
     "text": [
      "[发送] aabb010100\n",
      "[成功] 收到确认\n"
     ]
    },
    {
     "data": {
      "text/plain": [
       "0"
      ]
     },
     "execution_count": 7,
     "metadata": {},
     "output_type": "execute_result"
    }
   ],
   "source": [
    "my_dispenser.pause_dispenser()"
   ]
  },
  {
   "cell_type": "code",
   "execution_count": 8,
   "id": "ea0dc4d4",
   "metadata": {},
   "outputs": [
    {
     "name": "stdout",
     "output_type": "stream",
     "text": [
      "[成功] 串口信息接收线程已正常结束\n"
     ]
    }
   ],
   "source": [
    "my_dispenser.stop_dispenser_feedback_handler()"
   ]
  }
 ],
 "metadata": {
  "kernelspec": {
   "display_name": "Python 3",
   "language": "python",
   "name": "python3"
  },
  "language_info": {
   "codemirror_mode": {
    "name": "ipython",
    "version": 3
   },
   "file_extension": ".py",
   "mimetype": "text/x-python",
   "name": "python",
   "nbconvert_exporter": "python",
   "pygments_lexer": "ipython3",
   "version": "3.10.12"
  }
 },
 "nbformat": 4,
 "nbformat_minor": 5
}
