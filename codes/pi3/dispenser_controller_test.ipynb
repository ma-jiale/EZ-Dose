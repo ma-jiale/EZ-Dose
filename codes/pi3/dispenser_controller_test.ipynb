{
 "cells": [
  {
   "cell_type": "markdown",
   "id": "8eefe41a",
   "metadata": {},
   "source": [
    "创建分药机实例，通过串口连接分药机下位机\n"
   ]
  },
  {
   "cell_type": "code",
   "execution_count": 1,
   "id": "4b1b5b8e",
   "metadata": {},
   "outputs": [
    {
     "name": "stdout",
     "output_type": "stream",
     "text": [
      "[搜索] 正在搜索分药机设备...\n",
      "[信息] 发现 3 个串口设备:\n",
      "  - COM3: 蓝牙链接上的标准串行 (COM3)\n",
      "    制造商: Microsoft\n",
      "  - COM13: USB-SERIAL CH340 (COM13)\n",
      "    制造商: wch.cn\n",
      "    VID:PID: 1A86:7523\n",
      "  - COM4: 蓝牙链接上的标准串行 (COM4)\n",
      "    制造商: Microsoft\n",
      "    [匹配] CH340芯片检测: +50\n",
      "    [匹配] USB-SERIAL检测: +30\n",
      "    [匹配] 制造商检测: +40\n",
      "    [匹配] VID:PID检测(1A86:7523): +60\n",
      "    [匹配] USB设备检测: +10\n",
      "[匹配] 发现潜在分药机设备: COM13 (匹配度: 190)\n",
      "[选择] 自动选择设备: COM13\n",
      "  描述: USB-SERIAL CH340 (COM13)\n",
      "  制造商: wch.cn\n",
      "[成功] 串口 COM13 连接成功\n",
      "[启动] 串口信息接收线程已启动，现在可以看到所有串口消息\n"
     ]
    },
    {
     "name": "stdout",
     "output_type": "stream",
     "text": [
      "串口接收 >>> ACK\n",
      "[通信确认] 收到ACK\n",
      "串口接收 >>> DONE\n",
      "[操作完成] 收到DONE\n",
      "串口接收 >>> ACK\n",
      "[通信确认] 收到ACK\n",
      "串口接收 >>> DONE\n",
      "[操作完成] 收到DONE\n",
      "串口接收 >>> ACK\n",
      "[通信确认] 收到ACK\n",
      "串口接收 >>> DONE\n",
      "[操作完成] 收到DONE\n",
      "串口接收 >>> ACK\n",
      "[通信确认] 收到ACK\n",
      "串口接收 >>> DONE\n",
      "[操作完成] 收到DONE\n"
     ]
    }
   ],
   "source": [
    "from dispenser_controller import *\n",
    "my_dispenser = DispenserController()"
   ]
  },
  {
   "cell_type": "markdown",
   "id": "1d8c3302",
   "metadata": {},
   "source": [
    "重置分药机状态"
   ]
  },
  {
   "cell_type": "code",
   "execution_count": 2,
   "id": "12394e74",
   "metadata": {},
   "outputs": [
    {
     "name": "stdout",
     "output_type": "stream",
     "text": [
      "[发送] aabb000000\n",
      "[成功] 收到确认\n",
      "[操作] 分药机已重置\n"
     ]
    },
    {
     "data": {
      "text/plain": [
       "0"
      ]
     },
     "execution_count": 2,
     "metadata": {},
     "output_type": "execute_result"
    }
   ],
   "source": [
    "my_dispenser.initialize_dispenser()"
   ]
  },
  {
   "cell_type": "markdown",
   "id": "ead69c62",
   "metadata": {},
   "source": [
    "打开舱门"
   ]
  },
  {
   "cell_type": "code",
   "execution_count": 4,
   "id": "1f462f10",
   "metadata": {},
   "outputs": [
    {
     "name": "stdout",
     "output_type": "stream",
     "text": [
      "[发送] aabb030300\n",
      "[成功] 收到确认\n"
     ]
    },
    {
     "data": {
      "text/plain": [
       "0"
      ]
     },
     "execution_count": 4,
     "metadata": {},
     "output_type": "execute_result"
    }
   ],
   "source": [
    "my_dispenser.open_tray()"
   ]
  },
  {
   "cell_type": "markdown",
   "id": "0bc60ccf",
   "metadata": {},
   "source": [
    "放入药盘后关闭舱门"
   ]
  },
  {
   "cell_type": "code",
   "execution_count": 5,
   "id": "f02b13c2",
   "metadata": {},
   "outputs": [
    {
     "name": "stdout",
     "output_type": "stream",
     "text": [
      "[发送] aabb040400\n",
      "[成功] 收到确认\n"
     ]
    },
    {
     "data": {
      "text/plain": [
       "0"
      ]
     },
     "execution_count": 5,
     "metadata": {},
     "output_type": "execute_result"
    }
   ],
   "source": [
    "my_dispenser.close_tray()"
   ]
  },
  {
   "cell_type": "markdown",
   "id": "4b36fa56",
   "metadata": {},
   "source": [
    "根据药片类型设置转盘速度和舵机角度，发送测试分药矩阵"
   ]
  },
  {
   "cell_type": "code",
   "execution_count": null,
   "id": "89868a0b",
   "metadata": {},
   "outputs": [],
   "source": [
    "# 创建测试分药矩阵\n",
    "my_dispenser.set_turnMotor_speed(0.6)\n",
    "my_dispenser.set_servo_angle(0.5)\n",
    "pill_matrix = np.zeros([4, 7], dtype=np.byte)\n",
    "for r in range(3):\n",
    "    if r == 0:\n",
    "        for c in range(7):\n",
    "            if c % 2 == 0:\n",
    "                pill_matrix[r][c] = 1\n",
    "print(f\"分药矩阵:\\n{pill_matrix}\")\n",
    "# 发送分药命令\n",
    "return_msg = my_dispenser.send_pill_matrix(pill_matrix)\n",
    "print(f\"[结果] 发送分药命令结果: {return_msg}\")"
   ]
  },
  {
   "cell_type": "code",
   "execution_count": null,
   "id": "d0749b58",
   "metadata": {},
   "outputs": [],
   "source": [
    "my_dispenser.pause_dispenser()"
   ]
  },
  {
   "cell_type": "code",
   "execution_count": null,
   "id": "ea0dc4d4",
   "metadata": {},
   "outputs": [],
   "source": [
    "my_dispenser.stop_dispenser_feedback_handler()"
   ]
  }
 ],
 "metadata": {
  "kernelspec": {
   "display_name": "pill-dispenser",
   "language": "python",
   "name": "python3"
  },
  "language_info": {
   "codemirror_mode": {
    "name": "ipython",
    "version": 3
   },
   "file_extension": ".py",
   "mimetype": "text/x-python",
   "name": "python",
   "nbconvert_exporter": "python",
   "pygments_lexer": "ipython3",
   "version": "3.10.12"
  }
 },
 "nbformat": 4,
 "nbformat_minor": 5
}
