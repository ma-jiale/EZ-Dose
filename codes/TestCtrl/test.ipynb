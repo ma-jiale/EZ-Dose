{
 "cells": [
  {
   "cell_type": "code",
   "execution_count": 39,
   "metadata": {},
   "outputs": [],
   "source": [
    "from control import *\n",
    "\n",
    "control = Dispenser(\"COM17\")\n",
    "control.repeat = 0\n",
    "\n",
    "def get_feedback():\n",
    "    global control\n",
    "    org = control.ser.readline().decode().strip()\n",
    "    print(org)"
   ]
  },
  {
   "cell_type": "code",
   "execution_count": null,
   "metadata": {},
   "outputs": [],
   "source": [
    "control.start_dispenser_feedback_handler()"
   ]
  },
  {
   "cell_type": "code",
   "execution_count": null,
   "metadata": {},
   "outputs": [],
   "source": [
    "control.stop_dispenser_feedback_handler()"
   ]
  },
  {
   "cell_type": "code",
   "execution_count": null,
   "metadata": {},
   "outputs": [],
   "source": [
    "get_feedback()"
   ]
  },
  {
   "cell_type": "markdown",
   "metadata": {},
   "source": [
    "### 命令发送测试"
   ]
  },
  {
   "cell_type": "code",
   "execution_count": 40,
   "metadata": {},
   "outputs": [
    {
     "name": "stdout",
     "output_type": "stream",
     "text": [
      "[发送] b'\\xaa\\xbb\\x00\\x00\\x00'\n"
     ]
    },
    {
     "data": {
      "text/plain": [
       "1"
      ]
     },
     "execution_count": 40,
     "metadata": {},
     "output_type": "execute_result"
    }
   ],
   "source": [
    "control.init()"
   ]
  },
  {
   "cell_type": "code",
   "execution_count": null,
   "metadata": {},
   "outputs": [],
   "source": [
    "control.open_plate()"
   ]
  },
  {
   "cell_type": "code",
   "execution_count": null,
   "metadata": {},
   "outputs": [],
   "source": [
    "control.close_plate()"
   ]
  },
  {
   "cell_type": "code",
   "execution_count": null,
   "metadata": {},
   "outputs": [],
   "source": [
    "control.ser.flushInput()\n",
    "# control.get_rfid()\n",
    "get_feedback()\n",
    "get_feedback()"
   ]
  },
  {
   "cell_type": "code",
   "execution_count": null,
   "metadata": {},
   "outputs": [
    {
     "name": "stdout",
     "output_type": "stream",
     "text": [
      "[发送] b'\\xaa\\xbb\\x04\\x04\\x00'\n",
      "[发送] b'\\xaa\\xbb\\x08\\x00\\x00\\x00\\x00?G\\x00'\n",
      "[发送] b'\\xaa\\xbb\\x08\\x01\\xcd\\xcc\\xcc=\\xab\\x02'\n",
      "[[1 1 1 1 1 1 1]\n",
      " [0 0 0 0 0 0 0]\n",
      " [0 0 0 0 0 0 0]\n",
      " [0 0 0 0 0 0 0]]\n",
      "[发送] b'\\xaa\\xbb\\x05\\x01\\x01\\x01\\x01\\x01\\x01\\x01\\x00\\x00\\x00\\x00\\x00\\x00\\x00\\x00\\x00\\x00\\x00\\x00\\x00\\x00\\x00\\x00\\x00\\x00\\x00\\x00\\x00\\x0c\\x00'\n",
      "开始分药\n",
      "ACK\n",
      "DONE\n",
      "ACK\n"
     ]
    }
   ],
   "source": [
    "control.ser.flushInput()\n",
    "control.close_plate()\n",
    "control.set_turnMotor_speed(0.5)#0.8\n",
    "control.set_conveyorMotor_speed(0.4)\n",
    "#测试分药矩阵\n",
    "pillList = np.zeros([4, 7], dtype=np.byte)\n",
    "for r in range(3):\n",
    "    for c in range(7):\n",
    "        if r == 0:\n",
    "            pillList[r][c] = 1\n",
    "print(pillList)          \n",
    "control.send_data(pillList)\n",
    "print(\"开始分药\")\n",
    "get_feedback()\n",
    "get_feedback()\n",
    "get_feedback()\n"
   ]
  },
  {
   "cell_type": "code",
   "execution_count": 42,
   "metadata": {},
   "outputs": [
    {
     "name": "stdout",
     "output_type": "stream",
     "text": [
      "[发送] b'\\xaa\\xbb\\x01\\x01\\x00'\n"
     ]
    },
    {
     "data": {
      "text/plain": [
       "1"
      ]
     },
     "execution_count": 42,
     "metadata": {},
     "output_type": "execute_result"
    }
   ],
   "source": [
    "control.pause()"
   ]
  },
  {
   "cell_type": "markdown",
   "metadata": {},
   "source": [
    "### 参数设置测试"
   ]
  },
  {
   "cell_type": "code",
   "execution_count": null,
   "metadata": {},
   "outputs": [],
   "source": [
    "#初始值参考\n",
    "control.set_turnMotor_speed(0.5)\n",
    "control.set_conveyorMotor_speed(1)\n",
    "control.set_upperOptocoupler_thresh(0.87)\n",
    "control.set_lowerOptocoupler_thresh(0.92)\n",
    "control.set_upperOptocoupler_noresp(50)\n",
    "control.set_lowerOptocoupler_noresp(10)\n",
    "control.set_turnMotor_delay_stop(0)\n",
    "control.set_clean_speed(1.5)\n",
    "control.set_clean_delay(2.5 * 1000)\n"
   ]
  },
  {
   "cell_type": "code",
   "execution_count": null,
   "metadata": {},
   "outputs": [],
   "source": [
    "#非阻塞发药\n",
    "pillList = np.zeros([4, 7], dtype=np.byte)\n",
    "for r in range(4):\n",
    "    for c in range(7):\n",
    "        if(r == 1 or r == 0):\n",
    "            pillList[r][c] = 1\n",
    "print(pillList)\n",
    "control.send_data(pillList)"
   ]
  },
  {
   "cell_type": "code",
   "execution_count": null,
   "metadata": {},
   "outputs": [],
   "source": [
    "control.set_turnMotor_speed(0.5)#0.8\n"
   ]
  },
  {
   "cell_type": "markdown",
   "metadata": {},
   "source": [
    "实际上为舵机角度设置"
   ]
  },
  {
   "cell_type": "code",
   "execution_count": null,
   "metadata": {},
   "outputs": [],
   "source": [
    "control.set_conveyorMotor_speed(0.1)"
   ]
  },
  {
   "cell_type": "code",
   "execution_count": null,
   "metadata": {},
   "outputs": [],
   "source": [
    "control.set_upperOptocoupler_thresh(0.5)#0.88"
   ]
  },
  {
   "cell_type": "code",
   "execution_count": null,
   "metadata": {},
   "outputs": [],
   "source": [
    "control.set_lowerOptocoupler_thresh(0.96)#0.96"
   ]
  },
  {
   "cell_type": "code",
   "execution_count": null,
   "metadata": {},
   "outputs": [],
   "source": [
    "control.set_upperOptocoupler_noresp(18)"
   ]
  },
  {
   "cell_type": "code",
   "execution_count": null,
   "metadata": {},
   "outputs": [],
   "source": [
    "control.set_lowerOptocoupler_noresp(3)"
   ]
  },
  {
   "cell_type": "code",
   "execution_count": null,
   "metadata": {},
   "outputs": [],
   "source": [
    "control.set_turnMotor_delay_stop(0)"
   ]
  },
  {
   "cell_type": "code",
   "execution_count": null,
   "metadata": {},
   "outputs": [],
   "source": [
    "# control.set_clean_speed(1)\n",
    "control.set_clean_delay(3 * 1000)"
   ]
  },
  {
   "cell_type": "code",
   "execution_count": null,
   "metadata": {},
   "outputs": [],
   "source": [
    "control.set_clean_speed(0.1)"
   ]
  }
 ],
 "metadata": {
  "kernelspec": {
   "display_name": "Python 3",
   "language": "python",
   "name": "python3"
  },
  "language_info": {
   "codemirror_mode": {
    "name": "ipython",
    "version": 3
   },
   "file_extension": ".py",
   "mimetype": "text/x-python",
   "name": "python",
   "nbconvert_exporter": "python",
   "pygments_lexer": "ipython3",
   "version": "3.10.12"
  }
 },
 "nbformat": 4,
 "nbformat_minor": 2
}
