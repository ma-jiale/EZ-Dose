{
 "cells": [
  {
   "cell_type": "code",
   "execution_count": 16,
   "metadata": {},
   "outputs": [],
   "source": [
    "from control import *\n",
    "\n",
    "control = Control(\"COM4\")\n",
    "control.repeat = 0\n",
    "\n",
    "def get_feedback():\n",
    "    global control\n",
    "    org = control.ser.readline().decode().strip()\n",
    "    print(org)"
   ]
  },
  {
   "cell_type": "code",
   "execution_count": null,
   "metadata": {},
   "outputs": [],
   "source": [
    "control.start()"
   ]
  },
  {
   "cell_type": "code",
   "execution_count": 16,
   "metadata": {},
   "outputs": [],
   "source": [
    "control.stop()"
   ]
  },
  {
   "cell_type": "code",
   "execution_count": null,
   "metadata": {},
   "outputs": [],
   "source": [
    "get_feedback()"
   ]
  },
  {
   "cell_type": "markdown",
   "metadata": {},
   "source": [
    "### 命令发送测试"
   ]
  },
  {
   "cell_type": "code",
   "execution_count": 17,
   "metadata": {},
   "outputs": [
    {
     "name": "stdout",
     "output_type": "stream",
     "text": [
      "b'\\xaa\\xbb\\x00\\x00\\x00'\n"
     ]
    },
    {
     "data": {
      "text/plain": [
       "1"
      ]
     },
     "execution_count": 17,
     "metadata": {},
     "output_type": "execute_result"
    }
   ],
   "source": [
    "control.init()"
   ]
  },
  {
   "cell_type": "code",
   "execution_count": 18,
   "metadata": {},
   "outputs": [
    {
     "name": "stdout",
     "output_type": "stream",
     "text": [
      "b'\\xaa\\xbb\\x03\\x03\\x00'\n"
     ]
    },
    {
     "data": {
      "text/plain": [
       "1"
      ]
     },
     "execution_count": 18,
     "metadata": {},
     "output_type": "execute_result"
    }
   ],
   "source": [
    "control.open_plate()"
   ]
  },
  {
   "cell_type": "code",
   "execution_count": 19,
   "metadata": {},
   "outputs": [
    {
     "name": "stdout",
     "output_type": "stream",
     "text": [
      "b'\\xaa\\xbb\\x04\\x04\\x00'\n"
     ]
    },
    {
     "data": {
      "text/plain": [
       "1"
      ]
     },
     "execution_count": 19,
     "metadata": {},
     "output_type": "execute_result"
    }
   ],
   "source": [
    "control.close_plate()"
   ]
  },
  {
   "cell_type": "code",
   "execution_count": 20,
   "metadata": {},
   "outputs": [
    {
     "name": "stdout",
     "output_type": "stream",
     "text": [
      "b'\\xaa\\xbb\\x02\\x02\\x00'\n",
      "ACK\n",
      "rfid:0\n"
     ]
    }
   ],
   "source": [
    "control.ser.flushInput()\n",
    "control.get_rfid()\n",
    "get_feedback()\n",
    "get_feedback()"
   ]
  },
  {
   "cell_type": "code",
   "execution_count": 21,
   "metadata": {},
   "outputs": [
    {
     "name": "stdout",
     "output_type": "stream",
     "text": [
      "b'\\xaa\\xbb\\x05\\x01\\x01\\x01\\x01\\x01\\x01\\x01\\x01\\x01\\x01\\x01\\x01\\x01\\x01\\x01\\x01\\x01\\x01\\x01\\x01\\x01\\x01\\x01\\x01\\x01\\x01\\x01\\x01!\\x00'\n",
      "开始分药\n",
      "ACK\n",
      "machine_state:FINISH\n",
      "pill_remain:4\n"
     ]
    }
   ],
   "source": [
    "control.ser.flushInput()\n",
    "#测试分药矩阵\n",
    "pillList = np.zeros([4, 7], dtype=np.byte)\n",
    "for r in range(4):\n",
    "    for c in range(7):\n",
    "        if(c % 2):\n",
    "            pillList[r][c] = 1\n",
    "print(pillList)          \n",
    "control.send_data(pillList)\n",
    "print(\"开始分药\")\n",
    "get_feedback()\n",
    "get_feedback()\n",
    "get_feedback()\n"
   ]
  },
  {
   "cell_type": "code",
   "execution_count": 36,
   "metadata": {},
   "outputs": [
    {
     "name": "stdout",
     "output_type": "stream",
     "text": [
      "b'\\xaa\\xbb\\x01\\x01\\x00'\n"
     ]
    },
    {
     "data": {
      "text/plain": [
       "1"
      ]
     },
     "execution_count": 36,
     "metadata": {},
     "output_type": "execute_result"
    }
   ],
   "source": [
    "control.pause()"
   ]
  },
  {
   "cell_type": "markdown",
   "metadata": {},
   "source": [
    "### 参数设置测试"
   ]
  },
  {
   "cell_type": "code",
   "execution_count": 12,
   "metadata": {},
   "outputs": [
    {
     "name": "stdout",
     "output_type": "stream",
     "text": [
      "b'\\xaa\\xbb\\x08\\x00\\x00\\x00\\x00?G\\x00'\n",
      "b'\\xaa\\xbb\\x08\\x01\\x00\\x00\\x80?\\xc8\\x00'\n",
      "b'\\xaa\\xbb\\x06\\x00R\\xb8^?\\xad\\x01'\n",
      "b'\\xaa\\xbb\\x06\\x01\\x1f\\x85k?U\\x01'\n",
      "b'\\xaa\\xbb\\x07\\x002\\x00\\x00\\x009\\x00'\n",
      "b'\\xaa\\xbb\\x07\\x01\\n\\x00\\x00\\x00\\x12\\x00'\n",
      "b'\\xaa\\xbb\\t\\x00\\x00\\x00\\x00\\x00\\t\\x00'\n"
     ]
    },
    {
     "data": {
      "text/plain": [
       "1"
      ]
     },
     "execution_count": 12,
     "metadata": {},
     "output_type": "execute_result"
    }
   ],
   "source": [
    "#初始值参考\n",
    "control.set_turnMotor_speed(0.5)\n",
    "control.set_conveyorMotor_speed(1)\n",
    "control.set_upperOptocoupler_thresh(0.87)\n",
    "control.set_lowerOptocoupler_thresh(0.92)\n",
    "control.set_upperOptocoupler_noresp(50)\n",
    "control.set_lowerOptocoupler_noresp(10)\n",
    "control.set_turnMotor_delay_stop(0)\n",
    "control.set_clean_speed(0.8)\n",
    "control.set_clean_delay(6 * 1000)\n"
   ]
  },
  {
   "cell_type": "code",
   "execution_count": 21,
   "metadata": {},
   "outputs": [
    {
     "name": "stdout",
     "output_type": "stream",
     "text": [
      "[[1 1 1 1 1 1 1]\n",
      " [1 1 1 1 1 1 1]\n",
      " [0 0 0 0 0 0 0]\n",
      " [0 0 0 0 0 0 0]]\n",
      "b'\\xaa\\xbb\\x05\\x01\\x01\\x01\\x01\\x01\\x01\\x01\\x01\\x01\\x01\\x01\\x01\\x01\\x01\\x00\\x00\\x00\\x00\\x00\\x00\\x00\\x00\\x00\\x00\\x00\\x00\\x00\\x00\\x13\\x00'\n"
     ]
    },
    {
     "data": {
      "text/plain": [
       "False"
      ]
     },
     "execution_count": 21,
     "metadata": {},
     "output_type": "execute_result"
    }
   ],
   "source": [
    "#非阻塞发药\n",
    "pillList = np.zeros([4, 7], dtype=np.byte)\n",
    "for r in range(4):\n",
    "    for c in range(7):\n",
    "        if(r == 1 or r == 0):\n",
    "            pillList[r][c] = 1\n",
    "print(pillList)\n",
    "control.send_data(pillList)"
   ]
  },
  {
   "cell_type": "code",
   "execution_count": 20,
   "metadata": {},
   "outputs": [
    {
     "name": "stdout",
     "output_type": "stream",
     "text": [
      "b'\\xaa\\xbb\\x08\\x00\\xcd\\xccL?,\\x02'\n"
     ]
    },
    {
     "data": {
      "text/plain": [
       "1"
      ]
     },
     "execution_count": 20,
     "metadata": {},
     "output_type": "execute_result"
    }
   ],
   "source": [
    "control.set_turnMotor_speed(0.8)#0.8"
   ]
  },
  {
   "cell_type": "code",
   "execution_count": 25,
   "metadata": {},
   "outputs": [
    {
     "name": "stdout",
     "output_type": "stream",
     "text": [
      "b'\\xaa\\xbb\\x08\\x01\\x00\\x00\\x80?\\xc8\\x00'\n"
     ]
    },
    {
     "data": {
      "text/plain": [
       "1"
      ]
     },
     "execution_count": 25,
     "metadata": {},
     "output_type": "execute_result"
    }
   ],
   "source": [
    "control.set_conveyorMotor_speed(1)"
   ]
  },
  {
   "cell_type": "code",
   "execution_count": null,
   "metadata": {},
   "outputs": [
    {
     "name": "stdout",
     "output_type": "stream",
     "text": [
      "b'\\xaa\\xbb\\x06\\x00\\x9a\\x99\\x99>\\x10\\x02'\n"
     ]
    },
    {
     "data": {
      "text/plain": [
       "1"
      ]
     },
     "execution_count": 19,
     "metadata": {},
     "output_type": "execute_result"
    }
   ],
   "source": [
    "control.set_upperOptocoupler_thresh(0.5)#0.88"
   ]
  },
  {
   "cell_type": "code",
   "execution_count": 10,
   "metadata": {},
   "outputs": [
    {
     "name": "stdout",
     "output_type": "stream",
     "text": [
      "b'\\xaa\\xbb\\x06\\x01\\xc3\\xf5h?f\\x02'\n",
      "b'\\xaa\\xbb\\x06\\x01\\xc3\\xf5h?f\\x02'\n"
     ]
    },
    {
     "data": {
      "text/plain": [
       "1"
      ]
     },
     "execution_count": 10,
     "metadata": {},
     "output_type": "execute_result"
    }
   ],
   "source": [
    "control.set_lowerOptocoupler_thresh(0.96)#0.96"
   ]
  },
  {
   "cell_type": "code",
   "execution_count": null,
   "metadata": {},
   "outputs": [
    {
     "name": "stdout",
     "output_type": "stream",
     "text": [
      "b'\\xaa\\xbb\\x07\\x00<\\x00\\x00\\x00C\\x00'\n",
      "b'\\xaa\\xbb\\x07\\x00<\\x00\\x00\\x00C\\x00'\n"
     ]
    },
    {
     "data": {
      "text/plain": [
       "1"
      ]
     },
     "execution_count": 11,
     "metadata": {},
     "output_type": "execute_result"
    }
   ],
   "source": [
    "control.set_upperOptocoupler_noresp(18)"
   ]
  },
  {
   "cell_type": "code",
   "execution_count": null,
   "metadata": {},
   "outputs": [
    {
     "name": "stdout",
     "output_type": "stream",
     "text": [
      "b'\\xaa\\xbb\\x07\\x01\\x14\\x00\\x00\\x00\\x1c\\x00'\n",
      "b'\\xaa\\xbb\\x07\\x01\\x14\\x00\\x00\\x00\\x1c\\x00'\n"
     ]
    },
    {
     "data": {
      "text/plain": [
       "1"
      ]
     },
     "execution_count": 12,
     "metadata": {},
     "output_type": "execute_result"
    }
   ],
   "source": [
    "control.set_lowerOptocoupler_noresp(3)"
   ]
  },
  {
   "cell_type": "code",
   "execution_count": 5,
   "metadata": {},
   "outputs": [
    {
     "name": "stdout",
     "output_type": "stream",
     "text": [
      "b'\\xaa\\xbb\\t\\x00\\x00\\x00\\x00\\x00\\t\\x00'\n"
     ]
    },
    {
     "data": {
      "text/plain": [
       "1"
      ]
     },
     "execution_count": 5,
     "metadata": {},
     "output_type": "execute_result"
    }
   ],
   "source": [
    "control.set_turnMotor_delay_stop(0)"
   ]
  },
  {
   "cell_type": "code",
   "execution_count": 3,
   "metadata": {},
   "outputs": [
    {
     "name": "stdout",
     "output_type": "stream",
     "text": [
      "b'\\xaa\\xbb\\x0b\\x00\\x00\\x80?\\xca\\x00'\n",
      "b\"\\xaa\\xbb\\x0c\\x10'\\x00\\x00C\\x00\"\n"
     ]
    },
    {
     "data": {
      "text/plain": [
       "1"
      ]
     },
     "execution_count": 3,
     "metadata": {},
     "output_type": "execute_result"
    }
   ],
   "source": [
    "control.set_clean_speed(1)\n",
    "control.set_clean_delay(10 * 1000)"
   ]
  }
 ],
 "metadata": {
  "kernelspec": {
   "display_name": "Python 3",
   "language": "python",
   "name": "python3"
  },
  "language_info": {
   "codemirror_mode": {
    "name": "ipython",
    "version": 3
   },
   "file_extension": ".py",
   "mimetype": "text/x-python",
   "name": "python",
   "nbconvert_exporter": "python",
   "pygments_lexer": "ipython3",
   "version": "3.11.9"
  }
 },
 "nbformat": 4,
 "nbformat_minor": 2
}
