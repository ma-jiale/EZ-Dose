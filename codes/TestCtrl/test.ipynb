{
 "cells": [
  {
   "cell_type": "code",
   "execution_count": null,
   "metadata": {},
   "outputs": [],
   "source": [
    "from control import *\n",
    "\n",
    "control = Dispenser(\"COM6\")\n",
    "control.repeat = 0\n",
    "\n",
    "def get_feedback():\n",
    "    global control\n",
    "    org = control.ser.readline().decode().strip()\n",
    "    print(org)"
   ]
  },
  {
   "cell_type": "code",
   "execution_count": null,
   "metadata": {},
   "outputs": [],
   "source": [
    "control.start_dispenser_feedback_handler()"
   ]
  },
  {
   "cell_type": "code",
   "execution_count": null,
   "metadata": {},
   "outputs": [],
   "source": [
    "control.stop_dispenser_feedback_handler()"
   ]
  },
  {
   "cell_type": "code",
   "execution_count": null,
   "metadata": {},
   "outputs": [],
   "source": [
    "get_feedback()"
   ]
  },
  {
   "cell_type": "markdown",
   "metadata": {},
   "source": [
    "### 命令发送测试"
   ]
  },
  {
   "cell_type": "code",
   "execution_count": null,
   "metadata": {},
   "outputs": [],
   "source": [
    "control.init()"
   ]
  },
  {
   "cell_type": "code",
   "execution_count": null,
   "metadata": {},
   "outputs": [],
   "source": [
    "control.open_plate()"
   ]
  },
  {
   "cell_type": "code",
   "execution_count": null,
   "metadata": {},
   "outputs": [],
   "source": [
    "control.close_plate()"
   ]
  },
  {
   "cell_type": "code",
   "execution_count": null,
   "metadata": {},
   "outputs": [],
   "source": [
    "control.ser.flushInput()\n",
    "control.get_rfid()\n",
    "get_feedback()\n",
    "get_feedback()"
   ]
  },
  {
   "cell_type": "code",
   "execution_count": null,
   "metadata": {},
   "outputs": [],
   "source": [
    "control.ser.flushInput()\n",
    "#测试分药矩阵\n",
    "pillList = np.zeros([4, 7], dtype=np.byte)\n",
    "for r in range(4):\n",
    "    for c in range(7):\n",
    "        if(c % 2):\n",
    "            pillList[r][c] = 1\n",
    "print(pillList)          \n",
    "control.send_data(pillList)\n",
    "print(\"开始分药\")\n",
    "get_feedback()\n",
    "get_feedback()\n",
    "get_feedback()\n"
   ]
  },
  {
   "cell_type": "code",
   "execution_count": null,
   "metadata": {},
   "outputs": [],
   "source": [
    "control.pause()"
   ]
  },
  {
   "cell_type": "markdown",
   "metadata": {},
   "source": [
    "### 参数设置测试"
   ]
  },
  {
   "cell_type": "code",
   "execution_count": null,
   "metadata": {},
   "outputs": [],
   "source": [
    "#初始值参考\n",
    "control.set_turnMotor_speed(0.5)\n",
    "control.set_conveyorMotor_speed(1)\n",
    "control.set_upperOptocoupler_thresh(0.87)\n",
    "control.set_lowerOptocoupler_thresh(0.92)\n",
    "control.set_upperOptocoupler_noresp(50)\n",
    "control.set_lowerOptocoupler_noresp(10)\n",
    "control.set_turnMotor_delay_stop(0)\n",
    "control.set_clean_speed(0.8)\n",
    "control.set_clean_delay(6 * 1000)\n"
   ]
  },
  {
   "cell_type": "code",
   "execution_count": null,
   "metadata": {},
   "outputs": [],
   "source": [
    "#非阻塞发药\n",
    "pillList = np.zeros([4, 7], dtype=np.byte)\n",
    "for r in range(4):\n",
    "    for c in range(7):\n",
    "        if(r == 1 or r == 0):\n",
    "            pillList[r][c] = 1\n",
    "print(pillList)\n",
    "control.send_data(pillList)"
   ]
  },
  {
   "cell_type": "code",
   "execution_count": null,
   "metadata": {},
   "outputs": [],
   "source": [
    "control.set_turnMotor_speed(0.8)#0.8"
   ]
  },
  {
   "cell_type": "code",
   "execution_count": null,
   "metadata": {},
   "outputs": [],
   "source": [
    "control.set_conveyorMotor_speed(1)"
   ]
  },
  {
   "cell_type": "code",
   "execution_count": null,
   "metadata": {},
   "outputs": [],
   "source": [
    "control.set_upperOptocoupler_thresh(0.5)#0.88"
   ]
  },
  {
   "cell_type": "code",
   "execution_count": null,
   "metadata": {},
   "outputs": [],
   "source": [
    "control.set_lowerOptocoupler_thresh(0.96)#0.96"
   ]
  },
  {
   "cell_type": "code",
   "execution_count": null,
   "metadata": {},
   "outputs": [],
   "source": [
    "control.set_upperOptocoupler_noresp(18)"
   ]
  },
  {
   "cell_type": "code",
   "execution_count": null,
   "metadata": {},
   "outputs": [],
   "source": [
    "control.set_lowerOptocoupler_noresp(3)"
   ]
  },
  {
   "cell_type": "code",
   "execution_count": null,
   "metadata": {},
   "outputs": [],
   "source": [
    "control.set_turnMotor_delay_stop(0)"
   ]
  },
  {
   "cell_type": "code",
   "execution_count": null,
   "metadata": {},
   "outputs": [],
   "source": [
    "control.set_clean_speed(1)\n",
    "control.set_clean_delay(10 * 1000)"
   ]
  }
 ],
 "metadata": {
  "kernelspec": {
   "display_name": "hcl2",
   "language": "python",
   "name": "python3"
  },
  "language_info": {
   "codemirror_mode": {
    "name": "ipython",
    "version": 3
   },
   "file_extension": ".py",
   "mimetype": "text/x-python",
   "name": "python",
   "nbconvert_exporter": "python",
   "pygments_lexer": "ipython3",
   "version": "3.10.12"
  }
 },
 "nbformat": 4,
 "nbformat_minor": 2
}
